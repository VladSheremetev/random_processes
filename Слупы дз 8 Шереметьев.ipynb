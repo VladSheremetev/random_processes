{
 "cells": [
  {
   "cell_type": "markdown",
   "id": "92a7d3c6",
   "metadata": {},
   "source": [
    "# Задание 1"
   ]
  },
  {
   "cell_type": "markdown",
   "id": "eacfb5d3",
   "metadata": {},
   "source": [
    "## Состояния\n",
    "Состояния представлены в виде списка символов."
   ]
  },
  {
   "cell_type": "code",
   "execution_count": 45,
   "id": "407995e6",
   "metadata": {},
   "outputs": [],
   "source": [
    "states = ['h','c']"
   ]
  },
  {
   "cell_type": "markdown",
   "id": "b6e51b57",
   "metadata": {},
   "source": [
    "## Переходы\n",
    "Переходы представлены в виде словаря, где ключи — это кортежи, а значения — вероятности перехода. Первый элемент кортежа — это состояние, из которого мы переходим, а второй элемент — это состояние, в которое мы переходим."
   ]
  },
  {
   "cell_type": "code",
   "execution_count": 46,
   "id": "fee88d20",
   "metadata": {},
   "outputs": [],
   "source": [
    "transitions = {('h','h') : 0.6,\n",
    "               ('h','c') : 0.4,\n",
    "               ('c','h') : 0.5,\n",
    "               ('c','c') : 0.5,\n",
    "    }"
   ]
  },
  {
   "cell_type": "markdown",
   "id": "b3ff24d3",
   "metadata": {},
   "source": [
    "## Матрицы B1, B2\n",
    "Матрицы представлены в виде словаря, где ключи — это состояния погоды, а значения — словари. Внутренние словари содержат эмитированные символы в качестве ключей и вероятности 1, 2, 3 в качестве значений."
   ]
  },
  {
   "cell_type": "code",
   "execution_count": 47,
   "id": "7e43280d",
   "metadata": {},
   "outputs": [],
   "source": [
    "emissions = {'h' : {'1':0.2, '2':0.4, '3':0.4},\n",
    "             'c' : {'1':0.5, '2':0.4, '3':0.1}\n",
    "    }"
   ]
  },
  {
   "cell_type": "markdown",
   "id": "e61a863d",
   "metadata": {},
   "source": [
    "## Последовательность состояний\n",
    "Последовательность — это строка."
   ]
  },
  {
   "cell_type": "code",
   "execution_count": 35,
   "id": "30b53ced",
   "metadata": {},
   "outputs": [],
   "source": [
    "sequence = '1332333212113232213311121'"
   ]
  },
  {
   "cell_type": "markdown",
   "id": "1a4b822a",
   "metadata": {},
   "source": [
    "## Инициализация матриц"
   ]
  },
  {
   "cell_type": "code",
   "execution_count": 5,
   "id": "69cd5983",
   "metadata": {},
   "outputs": [],
   "source": [
    "def initialize_matrix(dim1, dim2, value=0):\n",
    "    F = []\n",
    "    for i in range(0, dim1):\n",
    "        F.append([])\n",
    "        for j in range(0, dim2):\n",
    "            F[i].append(value)\n",
    "    return F"
   ]
  },
  {
   "cell_type": "code",
   "execution_count": 111,
   "id": "18d36dfc",
   "metadata": {},
   "outputs": [],
   "source": [
    "def print_matrix(matrix, axis1, axis2):\n",
    "    w = '{:<10}'\n",
    "    print(w.format('') + ''.join([w.format(char) for char in axis2]))\n",
    "    for i, row in enumerate(matrix):\n",
    "        print(w.format(axis1[i]) + ''.join(['{:<10.2e}'.format(item) for item in row]))"
   ]
  },
  {
   "cell_type": "code",
   "execution_count": 193,
   "id": "9e56ede1",
   "metadata": {},
   "outputs": [
    {
     "name": "stdout",
     "output_type": "stream",
     "text": [
      "          3         1         3         \n",
      "h         0.00e+00  0.00e+00  0.00e+00  \n",
      "c         0.00e+00  0.00e+00  0.00e+00  \n"
     ]
    }
   ],
   "source": [
    "F = initialize_matrix(len(states), len('313'))\n",
    "\n",
    "print_matrix(F, states, '313')"
   ]
  },
  {
   "cell_type": "code",
   "execution_count": 132,
   "id": "39fb75fc",
   "metadata": {},
   "outputs": [],
   "source": [
    "from typing import List, Dict, Tuple\n",
    "\n",
    "def forward(states: List[str], \n",
    "            transitions: Dict[Tuple[str, str], float], \n",
    "            emissions: Dict[str, Dict[str, float]],\n",
    "            sequence: str,\n",
    "            pi: List[float],\n",
    "           ) -> float:\n",
    "    \n",
    "    F = initialize_matrix(len(states), len(sequence))\n",
    "    for i in range(len(states)):\n",
    "        F[i][0] = pi[i] * emissions[states[i]][sequence[0]]\n",
    "    for j in range(1, len(sequence)): # бегу по последовательности\n",
    "        for i in range(len(states)): # бегу по статусам\n",
    "            p_sum = 0\n",
    "            for k in range(len(states)): # просматриваю все предыдущие статусы\n",
    "                p_sum += F[k][j-1]*transitions[(states[k], states[i])] * emissions[states[i]][sequence[j]]\n",
    "            F[i][j] = p_sum\n",
    "    p_sum = 0\n",
    "    for k in range(0, len(states)):\n",
    "        p_sum += F[k][len(sequence) - 1]\n",
    "    return p_sum"
   ]
  },
  {
   "cell_type": "code",
   "execution_count": 133,
   "id": "d364bc34",
   "metadata": {},
   "outputs": [
    {
     "data": {
      "text/plain": [
       "4.978300204739011e-13"
      ]
     },
     "execution_count": 133,
     "metadata": {},
     "output_type": "execute_result"
    }
   ],
   "source": [
    "forward(states, transitions, emissions, sequence, pi=[.8, .2])"
   ]
  },
  {
   "cell_type": "markdown",
   "id": "dddea440",
   "metadata": {},
   "source": [
    "# Задание 2"
   ]
  },
  {
   "cell_type": "code",
   "execution_count": 189,
   "id": "dd6f4cdc",
   "metadata": {},
   "outputs": [],
   "source": [
    "from typing import List, Dict, Tuple\n",
    "\n",
    "def viterbi(states: List[str], \n",
    "            transitions: Dict[Tuple[str, str], float], \n",
    "            emissions: Dict[str, Dict[str, float]],\n",
    "            sequence: str,\n",
    "            pi: List[float],\n",
    "           ) -> Tuple[float, List[str]]:\n",
    "\n",
    "    F = initialize_matrix(len(states), len(sequence)) #заводим матрицу для хранения вероятностей\n",
    "    FP = [] #здесь хранится макс. вероятности для каждого элемента sequence в виде кортежей, колиечество которых = len(states)\n",
    "    \n",
    "    for i in range(len(states)): #обрабатываем переход start -> 1\n",
    "        F[i][0] = pi[i] * emissions[states[i]][sequence[0]]\n",
    "    values = []\n",
    "    for i in range(len(states)):\n",
    "                values.append((F[i][0], i))\n",
    "    FP.append(max(values, key=lambda x: x[0]))\n",
    "    \n",
    "    for j in range(1, len(sequence)):\n",
    "        values_sequence = []\n",
    "        for i in range(len(states)):\n",
    "            values_states = []\n",
    "            for k in range(len(states)):\n",
    "                #перебираем все вероятности попадания в состояние i, j из разных состояний states\n",
    "                values_states.append(F[k][j-1]*transitions[(states[k], states[i])] * emissions[states[i]][sequence[j]])\n",
    "            max_val = max(values_states) \n",
    "            F[i][j] = max_val #выбираю самую макс. вероятность попадания в i, j из разных состояний states\n",
    "            values_sequence.append((max_val, i))\n",
    "        FP.append(max(values_sequence, key=lambda x: x[0]))\n",
    "\n",
    "    probable_sequence = []\n",
    "    for i in range(len(sequence)):\n",
    "        probable_sequence.append(states[FP[i][1]])\n",
    "    \n",
    "    return FP[-1][0], probable_sequence"
   ]
  },
  {
   "cell_type": "code",
   "execution_count": 190,
   "id": "e3f53bea",
   "metadata": {},
   "outputs": [
    {
     "data": {
      "text/plain": [
       "(7.30406948721132e-17,\n",
       " ['h',\n",
       "  'h',\n",
       "  'h',\n",
       "  'h',\n",
       "  'h',\n",
       "  'h',\n",
       "  'h',\n",
       "  'h',\n",
       "  'c',\n",
       "  'h',\n",
       "  'c',\n",
       "  'c',\n",
       "  'h',\n",
       "  'h',\n",
       "  'h',\n",
       "  'h',\n",
       "  'h',\n",
       "  'c',\n",
       "  'h',\n",
       "  'h',\n",
       "  'c',\n",
       "  'c',\n",
       "  'c',\n",
       "  'h',\n",
       "  'c'])"
      ]
     },
     "execution_count": 190,
     "metadata": {},
     "output_type": "execute_result"
    }
   ],
   "source": [
    "viterbi(states, transitions, emissions, sequence, pi=[.8, .2])"
   ]
  },
  {
   "cell_type": "code",
   "execution_count": null,
   "id": "6dad859b",
   "metadata": {},
   "outputs": [],
   "source": []
  }
 ],
 "metadata": {
  "kernelspec": {
   "display_name": "Python 3 (ipykernel)",
   "language": "python",
   "name": "python3"
  },
  "language_info": {
   "codemirror_mode": {
    "name": "ipython",
    "version": 3
   },
   "file_extension": ".py",
   "mimetype": "text/x-python",
   "name": "python",
   "nbconvert_exporter": "python",
   "pygments_lexer": "ipython3",
   "version": "3.8.12"
  }
 },
 "nbformat": 4,
 "nbformat_minor": 5
}
